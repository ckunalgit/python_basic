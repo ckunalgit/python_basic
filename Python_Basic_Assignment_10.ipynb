{
 "cells": [
  {
   "cell_type": "markdown",
   "id": "5c11d942",
   "metadata": {},
   "source": [
    "## Python_Basic_Assignment : Assignment_10"
   ]
  },
  {
   "cell_type": "markdown",
   "id": "007da4fb",
   "metadata": {},
   "source": [
    "### 1. How do you distinguish between shutil.copy() and shutil.copytree()?"
   ]
  },
  {
   "cell_type": "markdown",
   "id": "734bff49",
   "metadata": {},
   "source": [
    "shutil.copy() method is used to copy the content of source file to destination file or directory. It also preserves the file’s permission mode but other metadata of the file like the file’s creation and modification times are not preserved.If the destination is a directory then the file will be copied into destination using the base filename from source. Also, destination must be writable. If destination is a file and already exists then it will be replaced with the source file otherwise a new file will be created.\n",
    "shutil.copytree() method copies an entire directory tree rooted at source (src) to the destination directory. The destination directory (dst) must not already exist. It will be created during copying"
   ]
  },
  {
   "cell_type": "markdown",
   "id": "5181899d",
   "metadata": {},
   "source": [
    "### 2. What function is used to rename files??"
   ]
  },
  {
   "cell_type": "markdown",
   "id": "c0404ef1",
   "metadata": {},
   "source": [
    "os.rename() method can be used to rename files. Also shutil.move() can be used to rename files along with moving them."
   ]
  },
  {
   "cell_type": "code",
   "execution_count": 9,
   "id": "7b29ab7c",
   "metadata": {},
   "outputs": [
    {
     "name": "stdout",
     "output_type": "stream",
     "text": [
      ".ipynb_checkpoints\n",
      "before_rename.txt\n",
      "Python_Basic_Assignment_1.ipynb\n",
      "Python_Basic_Assignment_10.ipynb\n",
      "Python_Basic_Assignment_2.ipynb\n",
      "Python_Basic_Assignment_3.ipynb\n",
      "Python_Basic_Assignment_4.ipynb\n",
      "Python_Basic_Assignment_5.ipynb\n",
      "Python_Basic_Assignment_6.ipynb\n",
      "Python_Basic_Assignment_9.ipynb\n",
      ".ipynb_checkpoints\n",
      "after_rename.txt\n",
      "Python_Basic_Assignment_1.ipynb\n",
      "Python_Basic_Assignment_10.ipynb\n",
      "Python_Basic_Assignment_2.ipynb\n",
      "Python_Basic_Assignment_3.ipynb\n",
      "Python_Basic_Assignment_4.ipynb\n",
      "Python_Basic_Assignment_5.ipynb\n",
      "Python_Basic_Assignment_6.ipynb\n",
      "Python_Basic_Assignment_9.ipynb\n"
     ]
    }
   ],
   "source": [
    "import os\n",
    "\n",
    "before = 'before_rename.txt'\n",
    "after = 'after_rename.txt'\n",
    "\n",
    "# List all files before renaming\n",
    "files = os.listdir()\n",
    "for i in files:\n",
    "    print(i)\n",
    "\n",
    "# Rename the file\n",
    "os.rename(before,after)\n",
    "\n",
    "# List all files after renaming\n",
    "files = os.listdir()\n",
    "for i in files:\n",
    "    print(i)"
   ]
  },
  {
   "cell_type": "markdown",
   "id": "4e095ac3",
   "metadata": {},
   "source": [
    "### 3. What is the difference between the delete functions in the send2trash and shutil modules?"
   ]
  },
  {
   "cell_type": "markdown",
   "id": "97e66bbe",
   "metadata": {},
   "source": [
    "The send2trash functions will move a file or folder to the recycle bin, while shutil functions will permanently delete files and folders"
   ]
  },
  {
   "cell_type": "markdown",
   "id": "941a5e7b",
   "metadata": {},
   "source": [
    "### 4. ZipFile objects have a close() method just like File objects’ close() method. What ZipFile method is equivalent to File objects’ open() method?"
   ]
  },
  {
   "cell_type": "markdown",
   "id": "2abe10a1",
   "metadata": {},
   "source": [
    "zipfile.ZipFile() function is equivalent to the open() function"
   ]
  },
  {
   "cell_type": "code",
   "execution_count": 10,
   "id": "3acee32f",
   "metadata": {},
   "outputs": [],
   "source": [
    "z = ZipFile(file, mode=\"r\", compression=ZIP_STORED, allowZip64=True,\n",
    "            compresslevel=None)\n",
    "\n",
    "# mode can be read(r), write(w), exclusive create(x) or append(a)"
   ]
  },
  {
   "cell_type": "markdown",
   "id": "a2510c8a",
   "metadata": {},
   "source": [
    "### 5. Create a programme that searches a folder tree for files with a certain file extension (such as .pdf or .jpg). Copy these files from whatever location they are in to a new folder."
   ]
  },
  {
   "cell_type": "code",
   "execution_count": 28,
   "id": "c0e184b1",
   "metadata": {},
   "outputs": [
    {
     "name": "stdout",
     "output_type": "stream",
     "text": [
      "['5 Blues Pentatonic Positions.pdf', '5 Minor Pentatonic Positions.pdf', 'Pride and Joy Shuffle.pdf']\n"
     ]
    }
   ],
   "source": [
    "import os.path\n",
    "import glob\n",
    "import shutil\n",
    "\n",
    "src = r'E:\\iNeuron\\Notebooks\\guinea_pig\\src'\n",
    "dst = r'E:\\iNeuron\\Notebooks\\guinea_pig\\dst'\n",
    "\n",
    "# Copy all file names to a list\n",
    "list_of_pdfs = glob.glob(\"*.pdf\")\n",
    "\n",
    "if len(list_of_pdfs) != 0: # Check if there are pdf files or not\n",
    "    for i in list_of_pdfs:\n",
    "        #src = os.path.join(src, i)\n",
    "        #dst = os.path.join(dst, i)\n",
    "        #print(src)\n",
    "        #print(dst)\n",
    "        dest = shutil.copy((os.path.join(src, i)),(os.path.join(dst, i)))\n",
    "\n",
    "# Check in destination directory if files are copied or not\n",
    "os.chdir(dst)\n",
    "is_copy_True = os.listdir()\n",
    "\n",
    "print(is_copy_True)"
   ]
  },
  {
   "cell_type": "code",
   "execution_count": null,
   "id": "8e183983",
   "metadata": {},
   "outputs": [],
   "source": []
  }
 ],
 "metadata": {
  "kernelspec": {
   "display_name": "Python 3 (ipykernel)",
   "language": "python",
   "name": "python3"
  },
  "language_info": {
   "codemirror_mode": {
    "name": "ipython",
    "version": 3
   },
   "file_extension": ".py",
   "mimetype": "text/x-python",
   "name": "python",
   "nbconvert_exporter": "python",
   "pygments_lexer": "ipython3",
   "version": "3.9.7"
  }
 },
 "nbformat": 4,
 "nbformat_minor": 5
}
