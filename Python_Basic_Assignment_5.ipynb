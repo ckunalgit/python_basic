{
 "cells": [
  {
   "cell_type": "markdown",
   "id": "dafd67c6",
   "metadata": {},
   "source": [
    "# Python Basic Assignment: Assignment_5"
   ]
  },
  {
   "cell_type": "markdown",
   "id": "c665a310",
   "metadata": {},
   "source": [
    "### 1. What does an empty dictionary's code look like?"
   ]
  },
  {
   "cell_type": "code",
   "execution_count": 1,
   "id": "63feeb41",
   "metadata": {},
   "outputs": [
    {
     "data": {
      "text/plain": [
       "{}"
      ]
     },
     "execution_count": 1,
     "metadata": {},
     "output_type": "execute_result"
    }
   ],
   "source": [
    "dct = {}\n",
    "dct"
   ]
  },
  {
   "cell_type": "markdown",
   "id": "bc18fce0",
   "metadata": {},
   "source": [
    "### 2. What is the value of a dictionary value with the key 'foo' and the value 42?"
   ]
  },
  {
   "cell_type": "code",
   "execution_count": 2,
   "id": "31a64d5f",
   "metadata": {},
   "outputs": [
    {
     "data": {
      "text/plain": [
       "42"
      ]
     },
     "execution_count": 2,
     "metadata": {},
     "output_type": "execute_result"
    }
   ],
   "source": [
    "dct = {'foo':42}\n",
    "dct.get('foo')"
   ]
  },
  {
   "cell_type": "markdown",
   "id": "28771f8e",
   "metadata": {},
   "source": [
    "### 3. What is the most significant distinction between a dictionary and a list?"
   ]
  },
  {
   "cell_type": "markdown",
   "id": "cc56c9fc",
   "metadata": {},
   "source": [
    "A list can be iterated using indexes, however a dictionary doesnt hav ea specific order of elements. Elements in a dictionary can be accesses using only keys or values."
   ]
  },
  {
   "cell_type": "markdown",
   "id": "18384761",
   "metadata": {},
   "source": [
    "### 4. What happens if you try to access spam['foo'] if spam is {'bar': 100}?"
   ]
  },
  {
   "cell_type": "markdown",
   "id": "7fa7568f",
   "metadata": {},
   "source": [
    "KeyError: 'foo'"
   ]
  },
  {
   "cell_type": "markdown",
   "id": "96f83c6c",
   "metadata": {},
   "source": [
    "### 5. If a dictionary is stored in spam, what is the difference between the expressions 'cat' in spam and 'cat' in spam.keys()?"
   ]
  },
  {
   "cell_type": "code",
   "execution_count": 15,
   "id": "d7741cb4",
   "metadata": {},
   "outputs": [
    {
     "name": "stdout",
     "output_type": "stream",
     "text": [
      "dict_keys(['cat'])\n"
     ]
    }
   ],
   "source": [
    "spam = {'cat':20}\n",
    "for cat in spam.keys():\n",
    "    print(spam.keys())"
   ]
  },
  {
   "cell_type": "markdown",
   "id": "52beb3ee",
   "metadata": {},
   "source": [
    "'cat' in spam will check if 'cat' is one of the keys/values in the dictionary or not. 'cat' in spam.keys() evaluates the same expression except it checks only for keys. Both will be True if 'cat' is one of the keys"
   ]
  },
  {
   "cell_type": "markdown",
   "id": "5a7dca13",
   "metadata": {},
   "source": [
    "### 6. If a dictionary is stored in spam, what is the difference between the expressions 'cat' in spam and 'cat' in spam.values()?"
   ]
  },
  {
   "cell_type": "code",
   "execution_count": 16,
   "id": "4a38cb2d",
   "metadata": {},
   "outputs": [
    {
     "name": "stdout",
     "output_type": "stream",
     "text": [
      "dict_values(['cat'])\n"
     ]
    }
   ],
   "source": [
    "spam = {'rat':'cat'}\n",
    "for cat in spam.values():\n",
    "    print(spam.values())"
   ]
  },
  {
   "cell_type": "markdown",
   "id": "210e5df0",
   "metadata": {},
   "source": [
    "'cat' in spam will check if 'cat' is one of the keys/values in the dictionary or not. 'cat' in spam.values() evaluates the same expression except it checks only for values. Both will be True if 'cat' is one of the values"
   ]
  },
  {
   "cell_type": "markdown",
   "id": "709ce0bc",
   "metadata": {},
   "source": [
    "### 7. What is a shortcut for the following code?"
   ]
  },
  {
   "cell_type": "code",
   "execution_count": 18,
   "id": "b5a81102",
   "metadata": {},
   "outputs": [],
   "source": [
    "if 'color' not in spam:\n",
    "    spam['color'] = 'black'"
   ]
  },
  {
   "cell_type": "markdown",
   "id": "9289707e",
   "metadata": {},
   "source": [
    "It will append a key 'color' to the dictionary if it doesn't exist and the value will be 'black'"
   ]
  },
  {
   "cell_type": "markdown",
   "id": "cad922be",
   "metadata": {},
   "source": [
    "### 8. How do you \"pretty print\" dictionary values using which module and function?"
   ]
  },
  {
   "cell_type": "markdown",
   "id": "c410ab8b",
   "metadata": {},
   "source": [
    "In python we have the <pprint> function inside the <pprint> module to print a dictionary in a more readable form as shown below."
   ]
  },
  {
   "cell_type": "code",
   "execution_count": 5,
   "id": "66d015cd",
   "metadata": {},
   "outputs": [
    {
     "name": "stdout",
     "output_type": "stream",
     "text": [
      "This is the result of normal print function [{'a': 1, 'b': 2}, {'c': {'d': 3, 'e': 4}}, {'f': {'g': 5, 'h': {'i': 6, 'j': 7}}}]\n",
      "\n",
      "This is how pretty printing works\n",
      "[{'a': 1, 'b': 2},\n",
      " {'c': {'d': 3, 'e': 4}},\n",
      " {'f': {'g': 5, 'h': {'i': 6, 'j': 7}}}]\n"
     ]
    }
   ],
   "source": [
    "import pprint\n",
    "\n",
    "d = [{'a':1,'b':2},{'c':{'d':3,'e':4}},{'f':{'g':5,'h':{'i':6,'j':7}}}]\n",
    "\n",
    "print('This is the result of normal print function', d)\n",
    "\n",
    "print('\\nThis is how pretty printing works')\n",
    "pprint.pprint(d)"
   ]
  }
 ],
 "metadata": {
  "kernelspec": {
   "display_name": "Python 3 (ipykernel)",
   "language": "python",
   "name": "python3"
  },
  "language_info": {
   "codemirror_mode": {
    "name": "ipython",
    "version": 3
   },
   "file_extension": ".py",
   "mimetype": "text/x-python",
   "name": "python",
   "nbconvert_exporter": "python",
   "pygments_lexer": "ipython3",
   "version": "3.9.7"
  }
 },
 "nbformat": 4,
 "nbformat_minor": 5
}
