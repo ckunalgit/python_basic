{
 "cells": [
  {
   "cell_type": "markdown",
   "id": "6e22cb9b",
   "metadata": {},
   "source": [
    "# Python Basic Assignment : Assignment_1"
   ]
  },
  {
   "cell_type": "markdown",
   "id": "d7ad8005",
   "metadata": {},
   "source": [
    "### 1. In the below elements which of them are values or an expression? eg:- values can be integer or string and expressions will be mathematical operators.\n"
   ]
  },
  {
   "cell_type": "markdown",
   "id": "12b7aec9",
   "metadata": {},
   "source": [
    "* - expression\n",
    "'hello' - value\n",
    "-87.8 - value\n",
    "- - expression\n",
    "/ - expression\n",
    "+ - expression\n",
    "6 - value"
   ]
  },
  {
   "cell_type": "markdown",
   "id": "9efeb475",
   "metadata": {},
   "source": [
    "### 2. What is the difference between string and variable?"
   ]
  },
  {
   "cell_type": "markdown",
   "id": "900dbb9e",
   "metadata": {},
   "source": [
    "A string is a collection of alphanumeric characters which may or may not be assigned to a variable. A variable is a memory location that has been assigned a value. Variable can hold integers, strings and even mathematical operations."
   ]
  },
  {
   "cell_type": "markdown",
   "id": "f1ba4771",
   "metadata": {},
   "source": [
    "### 3. Describe three different data types"
   ]
  },
  {
   "cell_type": "code",
   "execution_count": null,
   "id": "1e298f88",
   "metadata": {},
   "outputs": [],
   "source": [
    "Different data types are as follows:\n",
    "        1. String - holds alphanumeric values\n",
    "        2. Integers - holds integer values\n",
    "        3. Float - Holds real values between +infinity and -infinity"
   ]
  },
  {
   "cell_type": "markdown",
   "id": "17582faa",
   "metadata": {},
   "source": [
    "### 4. What is an expression made up of? What do all expressions do?"
   ]
  },
  {
   "cell_type": "code",
   "execution_count": null,
   "id": "35cd55ae",
   "metadata": {},
   "outputs": [],
   "source": [
    "An expression is a mathematical or conditional statement made up of variables. Expressions are used to evaluate variables or constants."
   ]
  },
  {
   "cell_type": "markdown",
   "id": "f808b072",
   "metadata": {},
   "source": [
    "### 5. This assignment statements, like spam = 10. What is the difference between an expression and a statement?"
   ]
  },
  {
   "cell_type": "code",
   "execution_count": null,
   "id": "8e1c87fc",
   "metadata": {},
   "outputs": [],
   "source": [
    "A statement in Python is like a command to the compiler to do something. For e.g print(\"Kunal\") is a statement which prints the string. The output of a statement cannot be assigned to a variable, whereas the output of an expression can bwe assigned to a variable."
   ]
  },
  {
   "cell_type": "markdown",
   "id": "7e242f6a",
   "metadata": {},
   "source": [
    "### 6. After running the following code, what does the variable bacon contain?\n",
    "### bacon = 22\n",
    "### bacon + 1"
   ]
  },
  {
   "cell_type": "markdown",
   "id": "1abceaba",
   "metadata": {},
   "source": [
    "22. Since the expression <bacon+1> hasn't been reassigned to another variable"
   ]
  },
  {
   "cell_type": "markdown",
   "id": "8a35d002",
   "metadata": {},
   "source": [
    "### 7. What should the values of the following two terms be?\n",
    "### 'spam' + 'spamspam'\n",
    "### 'spam' * 3"
   ]
  },
  {
   "cell_type": "markdown",
   "id": "4f9a27f8",
   "metadata": {},
   "source": [
    "spamspamspam"
   ]
  },
  {
   "cell_type": "markdown",
   "id": "966bafc9",
   "metadata": {},
   "source": [
    "### 8. Why is eggs a valid variable name while 100 is invalid?"
   ]
  },
  {
   "cell_type": "markdown",
   "id": "a1ca56b8",
   "metadata": {},
   "source": [
    "'eggs' is not a python keyword and hence can be assigned as a variable. Python variable names should alphanumerica characters and shouldn't start with a number."
   ]
  },
  {
   "cell_type": "markdown",
   "id": "7b4d9149",
   "metadata": {},
   "source": [
    "### 9. What three functions can be used to get the integer, floating-point number, or string version of a value?"
   ]
  },
  {
   "cell_type": "markdown",
   "id": "fd3f1b4b",
   "metadata": {},
   "source": [
    "int(), float() and str()"
   ]
  },
  {
   "cell_type": "markdown",
   "id": "86825271",
   "metadata": {},
   "source": [
    "### 10. Why does this expression cause an error? How can you fix it?\n",
    "### 'I have eaten ' + 99 + ' burritos.'"
   ]
  },
  {
   "cell_type": "markdown",
   "id": "3bf9759b",
   "metadata": {},
   "source": [
    "Python cannot concatenate integers with strings if they are not explicitely typecasted.\n",
    "    Solution: 'I have eaten ' + '99' + 'burritos.' or 'I have eaten ' + str(99) + 'burritos.'"
   ]
  }
 ],
 "metadata": {
  "kernelspec": {
   "display_name": "Python 3 (ipykernel)",
   "language": "python",
   "name": "python3"
  },
  "language_info": {
   "codemirror_mode": {
    "name": "ipython",
    "version": 3
   },
   "file_extension": ".py",
   "mimetype": "text/x-python",
   "name": "python",
   "nbconvert_exporter": "python",
   "pygments_lexer": "ipython3",
   "version": "3.9.7"
  }
 },
 "nbformat": 4,
 "nbformat_minor": 5
}
