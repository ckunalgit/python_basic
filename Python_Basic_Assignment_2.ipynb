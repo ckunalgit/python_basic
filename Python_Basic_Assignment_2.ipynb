{
 "cells": [
  {
   "cell_type": "markdown",
   "id": "57c8d2e5",
   "metadata": {},
   "source": [
    "# Python Basic Assignment : Assignment_2"
   ]
  },
  {
   "cell_type": "markdown",
   "id": "1a3d1983",
   "metadata": {},
   "source": [
    "### 1.What are the two values of the Boolean data type? How do you write them?"
   ]
  },
  {
   "cell_type": "markdown",
   "id": "ba0e5c06",
   "metadata": {},
   "source": [
    "True and False"
   ]
  },
  {
   "cell_type": "markdown",
   "id": "adb4cc87",
   "metadata": {},
   "source": [
    "### 2. What are the three different types of Boolean operators?"
   ]
  },
  {
   "cell_type": "markdown",
   "id": "60145a97",
   "metadata": {},
   "source": [
    "AND, OR, NOT are the 3 boolean operators."
   ]
  },
  {
   "cell_type": "markdown",
   "id": "3e40e7c3",
   "metadata": {},
   "source": [
    "### 3. Make a list of |each Boolean operator's truth tables (i.e. every possible combination of Boolean values for the operator and what it evaluate )."
   ]
  },
  {
   "cell_type": "markdown",
   "id": "e5dbfa6b",
   "metadata": {},
   "source": [
    "##### OR operator:\n",
    "    True or True = True\n",
    "    True or False = True\n",
    "    False or True = True\n",
    "    False or False = False"
   ]
  },
  {
   "cell_type": "markdown",
   "id": "4f954030",
   "metadata": {},
   "source": [
    "##### AND operator:\n",
    "    True and True = True\n",
    "    True and False = False\n",
    "    False and True = False\n",
    "    False and False = False"
   ]
  },
  {
   "cell_type": "markdown",
   "id": "083de764",
   "metadata": {},
   "source": [
    "### 4. What are the values of the following expressions?"
   ]
  },
  {
   "cell_type": "code",
   "execution_count": null,
   "id": "48137380",
   "metadata": {},
   "outputs": [],
   "source": [
    "(5 > 4) and (3 == 5) : False\n",
    "not (5 > 4) : False\n",
    "(5 > 4) or (3 == 5) : True\n",
    "not ((5 > 4) or (3 == 5)) : False\n",
    "(True and True) and (True == False) : False\n",
    "(not False) or (not True) : True\n"
   ]
  },
  {
   "cell_type": "markdown",
   "id": "d5e23712",
   "metadata": {},
   "source": [
    "### 5. What are the six comparison operators?"
   ]
  },
  {
   "cell_type": "markdown",
   "id": "f964db53",
   "metadata": {},
   "source": [
    "==, <, >, !=, <=, >="
   ]
  },
  {
   "cell_type": "markdown",
   "id": "cdbd1add",
   "metadata": {},
   "source": [
    "### 6. How do you tell the difference between the equal to and assignment operators?Describe a condition and when you would use one."
   ]
  },
  {
   "cell_type": "markdown",
   "id": "7667caad",
   "metadata": {},
   "source": [
    "An assignment operation will have only 1 equal '=' sign.\n",
    "    Assignment operator can be used to assign values to variable such as a=5\n",
    "    Equal to operator can be used to evaluate a condition. For e.g if a==5 then print(\"Hello\")"
   ]
  },
  {
   "cell_type": "code",
   "execution_count": null,
   "id": "8dff5ab4",
   "metadata": {},
   "outputs": [],
   "source": [
    ". Identify the three blocks in this code:\n",
    "spam = 0\n",
    "if spam == 10:\n",
    "print('eggs')\n",
    "if spam > 5:\n",
    "print('bacon')\n",
    "else:\n",
    "print('ham')\n",
    "print('spam')\n",
    "print('spam')"
   ]
  },
  {
   "cell_type": "code",
   "execution_count": null,
   "id": "60ec1922",
   "metadata": {},
   "outputs": [],
   "source": [
    "Block 1:\n",
    "if spam == 10:\n",
    "    print('eggs')\n",
    "Block 2:\n",
    "if spam > 5:\n",
    "    print('bacon')\n",
    "else:\n",
    "    print('ham')\n",
    "    print('spam')\n",
    "    print('spam')  "
   ]
  },
  {
   "cell_type": "markdown",
   "id": "c2f22576",
   "metadata": {},
   "source": [
    "### 8. Write code that prints Hello if 1 is stored in spam, prints Howdy if 2 is stored in spam, and prints Greetings! if anything else is stored in spam."
   ]
  },
  {
   "cell_type": "code",
   "execution_count": null,
   "id": "cad32495",
   "metadata": {},
   "outputs": [],
   "source": [
    "spam = 1\n",
    "if spam==1:\n",
    "    then print(\"Hello\")\n",
    "elif spam==2:\n",
    "    then print(\"Howdy\")\n",
    "else:\n",
    "    print(\"Greetings\")"
   ]
  },
  {
   "cell_type": "markdown",
   "id": "43b639ef",
   "metadata": {},
   "source": [
    "### 9.If your programme is stuck in an endless loop, what keys you’ll press?"
   ]
  },
  {
   "cell_type": "markdown",
   "id": "bbf72357",
   "metadata": {},
   "source": [
    "CTRL+C"
   ]
  },
  {
   "cell_type": "markdown",
   "id": "c0817a13",
   "metadata": {},
   "source": [
    "### 10. How can you tell the difference between break and continue?"
   ]
  },
  {
   "cell_type": "markdown",
   "id": "c10dfdaf",
   "metadata": {},
   "source": [
    "break will break out of the current loop and continue will run the loop again irrespective of any other conditions. We can test break and continue by giving print statements after the loop."
   ]
  },
  {
   "cell_type": "markdown",
   "id": "b6005b51",
   "metadata": {},
   "source": [
    "### 11. In a for loop, what is the difference between range(10), range(0, 10), and range(0, 10, 1)?"
   ]
  },
  {
   "cell_type": "markdown",
   "id": "079e3512",
   "metadata": {},
   "source": [
    "range(10) starts from 0 and ends after 10 numbers. In range(0,10) we are explicitely mentioning the starting number and the number of iterations of the loop. In range(0,10,1) we are specifying the jump size of every loop."
   ]
  },
  {
   "cell_type": "markdown",
   "id": "03c00838",
   "metadata": {},
   "source": [
    "### 12. Write a short program that prints the numbers 1 to 10 using a for loop. Then write an equivalent program that prints the numbers 1 to 10 using a while loop."
   ]
  },
  {
   "cell_type": "code",
   "execution_count": 1,
   "id": "a94c9c67",
   "metadata": {},
   "outputs": [
    {
     "name": "stdout",
     "output_type": "stream",
     "text": [
      "1\n",
      "2\n",
      "3\n",
      "4\n",
      "5\n",
      "6\n",
      "7\n",
      "8\n",
      "9\n",
      "10\n"
     ]
    }
   ],
   "source": [
    "for i in range(1,11):\n",
    "    print(i)"
   ]
  },
  {
   "cell_type": "code",
   "execution_count": 2,
   "id": "b62f1e1e",
   "metadata": {},
   "outputs": [
    {
     "name": "stdout",
     "output_type": "stream",
     "text": [
      "1\n",
      "2\n",
      "3\n",
      "4\n",
      "5\n",
      "6\n",
      "7\n",
      "8\n",
      "9\n",
      "10\n"
     ]
    }
   ],
   "source": [
    "i=1\n",
    "while i <= 10:\n",
    "    print(i)\n",
    "    i=i+1\n",
    "    "
   ]
  },
  {
   "cell_type": "markdown",
   "id": "5abfe6e1",
   "metadata": {},
   "source": [
    "### 13. If you had a function named bacon() inside a module named spam, how would you call it after importing spam?"
   ]
  },
  {
   "cell_type": "code",
   "execution_count": null,
   "id": "b3f002fb",
   "metadata": {},
   "outputs": [],
   "source": [
    "import spam\n",
    "spam.bacon()"
   ]
  }
 ],
 "metadata": {
  "kernelspec": {
   "display_name": "Python 3 (ipykernel)",
   "language": "python",
   "name": "python3"
  },
  "language_info": {
   "codemirror_mode": {
    "name": "ipython",
    "version": 3
   },
   "file_extension": ".py",
   "mimetype": "text/x-python",
   "name": "python",
   "nbconvert_exporter": "python",
   "pygments_lexer": "ipython3",
   "version": "3.9.7"
  }
 },
 "nbformat": 4,
 "nbformat_minor": 5
}
