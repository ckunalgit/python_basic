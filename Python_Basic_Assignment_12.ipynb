{
 "cells": [
  {
   "cell_type": "markdown",
   "id": "8a10b680",
   "metadata": {},
   "source": [
    "## Python_Basic_Assignment : Assignment_12"
   ]
  },
  {
   "cell_type": "markdown",
   "id": "7e5b6bed",
   "metadata": {},
   "source": [
    "### 1. In what modes should the PdfFileReader() and PdfFileWriter() File objects will be opened?"
   ]
  },
  {
   "cell_type": "markdown",
   "id": "b2454ea5",
   "metadata": {},
   "source": [
    "PDFFileReader() and PDFFileWriter() methods has to be opened in BINARY mode"
   ]
  },
  {
   "cell_type": "code",
   "execution_count": null,
   "id": "c83aecca",
   "metadata": {},
   "outputs": [],
   "source": [
    "file = open('dummy.pdf', 'rb')\n",
    "file.close()"
   ]
  },
  {
   "cell_type": "markdown",
   "id": "fc932168",
   "metadata": {},
   "source": [
    "### 2. From a PdfFileReader object, how do you get a Page object for page 5?"
   ]
  },
  {
   "cell_type": "code",
   "execution_count": null,
   "id": "b1f38ca4",
   "metadata": {},
   "outputs": [],
   "source": [
    "# We can use the below method\n",
    "\n",
    "import pyPDF2 as pdf\n",
    "\n",
    "file_readr_obj = pdf.PdfFileReader('dummy.pdf') # Creating a file reader object\n",
    "\n",
    "page_obj = file_readr_obj.getPage(4) # Creating an object for getting contents from Page5. PDF page numbering starts from 0"
   ]
  },
  {
   "cell_type": "markdown",
   "id": "0a341d3c",
   "metadata": {},
   "source": [
    "### 3. What PdfFileReader variable stores the number of pages in the PDF document?"
   ]
  },
  {
   "cell_type": "code",
   "execution_count": null,
   "id": "76a0a4f0",
   "metadata": {},
   "outputs": [],
   "source": [
    "The \"getNumPages()\" function stores the number of pages in a PDF document"
   ]
  },
  {
   "cell_type": "markdown",
   "id": "9347ef32",
   "metadata": {},
   "source": [
    "### 4. If a PdfFileReader object’s PDF is encrypted with the password swordfish, what must you do before you can obtain Page objects from it?"
   ]
  },
  {
   "cell_type": "markdown",
   "id": "d841c943",
   "metadata": {},
   "source": [
    "We can use the \"decrypt('swordfish')\" method to decrypt the password protected pdf file as shown below"
   ]
  },
  {
   "cell_type": "code",
   "execution_count": null,
   "id": "3e39423a",
   "metadata": {},
   "outputs": [],
   "source": [
    "file_readr_obj = pdf.PdfFileReader('dummy.pdf') # Creating a file reader object\n",
    "\n",
    "password = 'swordfish' # Storing the password in a variable\n",
    "\n",
    "file_readr_obj.decrypt(password) # Decrypting the file"
   ]
  },
  {
   "cell_type": "markdown",
   "id": "e92cb9f4",
   "metadata": {},
   "source": [
    "### 5. What methods do you use to rotate a page?"
   ]
  },
  {
   "cell_type": "markdown",
   "id": "0c10890c",
   "metadata": {},
   "source": [
    "\"rotateClockwise()\" can be used to rotate a page in a PDF"
   ]
  },
  {
   "cell_type": "code",
   "execution_count": null,
   "id": "9ae2737b",
   "metadata": {},
   "outputs": [],
   "source": [
    "file_readr_obj = pdf.PdfFileReader('dummy.pdf') # Creating a file reader object\n",
    "\n",
    "page = file_readr_obj.getPage(0) # Extracting a single page from the PDF\n",
    "\n",
    "page.rotateClockwise() # Rotating the PDF by 180 degrees"
   ]
  },
  {
   "cell_type": "markdown",
   "id": "0c0685d3",
   "metadata": {},
   "source": [
    "### 6. What is the difference between a Run object and a Paragraph object?"
   ]
  },
  {
   "cell_type": "markdown",
   "id": "28fdcac7",
   "metadata": {},
   "source": [
    "Both \"run\" object and \"Paragraph\" object in Python is related to a .docx document. A Paragraph object is created when the user presses \"Enter\". A run object is a contiguous collection of strings having the same formatting i.e same font, colour, font style."
   ]
  },
  {
   "cell_type": "markdown",
   "id": "07bfcf75",
   "metadata": {},
   "source": [
    "### 7. How do you obtain a list of Paragraph objects for a Document object that’s stored in a variable named doc?"
   ]
  },
  {
   "cell_type": "markdown",
   "id": "f7100f3f",
   "metadata": {},
   "source": [
    "We can use the \"Document()\" method followed by the \"paragraph\" function from \"docx\" module"
   ]
  },
  {
   "cell_type": "code",
   "execution_count": null,
   "id": "62f16a69",
   "metadata": {},
   "outputs": [],
   "source": [
    "import docx # importing the docx module which can handle word documents\n",
    "\n",
    "doc = docx.Document('dummy.docx') # The Document method creates a Document object which consists of Paragraphs\n",
    "\n",
    "para = doc.paragraphs #The Paragraphs method creates a list of all Pragraph objects which can then be iterated as a list"
   ]
  },
  {
   "cell_type": "markdown",
   "id": "4979a871",
   "metadata": {},
   "source": [
    "### 8. What type of object has bold, underline, italic, strike, and outline variables?"
   ]
  },
  {
   "cell_type": "markdown",
   "id": "3439d201",
   "metadata": {},
   "source": [
    "A \"run object\" contains all the above attributes"
   ]
  },
  {
   "cell_type": "markdown",
   "id": "79530d48",
   "metadata": {},
   "source": [
    "### 9. What is the difference between False, True, and None for the bold variable?"
   ]
  },
  {
   "cell_type": "markdown",
   "id": "25ce0b05",
   "metadata": {},
   "source": [
    "For a \"bold\" property, True means 'the property is ON' and False means 'the property is OFF'. 'None' indicates that the property value is inherited from the style hierarchy"
   ]
  },
  {
   "cell_type": "markdown",
   "id": "dea74dc6",
   "metadata": {},
   "source": [
    "### 10. How do you create a Document object for a new Word document?"
   ]
  },
  {
   "cell_type": "markdown",
   "id": "c8d02eac",
   "metadata": {},
   "source": [
    "The Document method from the docx module creates a Document object.\n",
    "\n",
    "dox = docx.Document()"
   ]
  },
  {
   "cell_type": "markdown",
   "id": "49608116",
   "metadata": {},
   "source": [
    "### 11. How do you add a paragraph with the text 'Hello, there!' to a Document object stored in a variable named doc?"
   ]
  },
  {
   "cell_type": "code",
   "execution_count": null,
   "id": "d5621d8e",
   "metadata": {},
   "outputs": [],
   "source": [
    "import docx\n",
    "\n",
    "# Create a document object\n",
    "doc = docx.Document()\n",
    "\n",
    "# Add a new paragraph to the document object\n",
    "new_para = doc.add_paragraph('Hello, there!')"
   ]
  },
  {
   "cell_type": "markdown",
   "id": "7bf6ade4",
   "metadata": {},
   "source": [
    "### 12. What integers represent the levels of headings available in Word documents?"
   ]
  },
  {
   "cell_type": "code",
   "execution_count": null,
   "id": "66085bc6",
   "metadata": {},
   "outputs": [],
   "source": [
    "doc.add_heading(string, level)"
   ]
  },
  {
   "cell_type": "markdown",
   "id": "aa8ef0b5",
   "metadata": {},
   "source": [
    "The 'level' parameter is an integer in range of 0-9, which represents the levels of headings in Word documents"
   ]
  }
 ],
 "metadata": {
  "kernelspec": {
   "display_name": "Python 3 (ipykernel)",
   "language": "python",
   "name": "python3"
  },
  "language_info": {
   "codemirror_mode": {
    "name": "ipython",
    "version": 3
   },
   "file_extension": ".py",
   "mimetype": "text/x-python",
   "name": "python",
   "nbconvert_exporter": "python",
   "pygments_lexer": "ipython3",
   "version": "3.9.7"
  }
 },
 "nbformat": 4,
 "nbformat_minor": 5
}
