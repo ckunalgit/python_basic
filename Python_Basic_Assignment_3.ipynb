{
 "cells": [
  {
   "cell_type": "markdown",
   "id": "524fcd60",
   "metadata": {},
   "source": [
    "# Python Basic Assignment: Assignment_3"
   ]
  },
  {
   "cell_type": "markdown",
   "id": "cc52fa4a",
   "metadata": {},
   "source": [
    "### 1. Why are functions advantageous to have in your programs?"
   ]
  },
  {
   "cell_type": "markdown",
   "id": "058a8e3d",
   "metadata": {},
   "source": [
    "Python functions provide us with resuabilty so that we don't need to write lengthy chunks of code for doing the same things again and again. For e.g if we have requirement of doing sorting operation on a list multiple times in a program, then instead of writing the code again and again, we can simply embed the code in a function, and then whereever we require to sort a list, we can direclty call the function and pass our list as an argument. Also the same function can be exported and later used globally by other users"
   ]
  },
  {
   "cell_type": "markdown",
   "id": "dba32b80",
   "metadata": {},
   "source": [
    "### 2. When does the code in a function run: when it's specified or when it's called?"
   ]
  },
  {
   "cell_type": "markdown",
   "id": "9db97454",
   "metadata": {},
   "source": [
    "Code inside a function always runs when the function is called."
   ]
  },
  {
   "cell_type": "markdown",
   "id": "1e7cc372",
   "metadata": {},
   "source": [
    "### 3. What statement creates a function?"
   ]
  },
  {
   "cell_type": "markdown",
   "id": "aff9fcec",
   "metadata": {},
   "source": [
    "Function is created using 'def' statement."
   ]
  },
  {
   "cell_type": "markdown",
   "id": "8eff49f6",
   "metadata": {},
   "source": [
    "### 4. What is the difference between a function and a function call?"
   ]
  },
  {
   "cell_type": "markdown",
   "id": "767446e3",
   "metadata": {},
   "source": [
    "A fucntion left by itself is simply a piece of code that doesn't do anything, unless it is explicitely called using the required parameters."
   ]
  },
  {
   "cell_type": "markdown",
   "id": "907b9512",
   "metadata": {},
   "source": [
    "### 5. How many global scopes are there in a Python program? How many local scopes?"
   ]
  },
  {
   "cell_type": "markdown",
   "id": "6a40d546",
   "metadata": {},
   "source": [
    "For every variable there is only one global scope and one local scope."
   ]
  },
  {
   "cell_type": "markdown",
   "id": "b059f507",
   "metadata": {},
   "source": [
    "### 6. What happens to variables in a local scope when the function call returns?"
   ]
  },
  {
   "cell_type": "markdown",
   "id": "81ebc5a5",
   "metadata": {},
   "source": [
    "The variables in local scope are discarded once the function call returns and they cannot be used outside the function"
   ]
  },
  {
   "cell_type": "markdown",
   "id": "bb4ee991",
   "metadata": {},
   "source": [
    "### 7. What is the concept of a return value? Is it possible to have a return value in an expression?"
   ]
  },
  {
   "cell_type": "markdown",
   "id": "f70d2049",
   "metadata": {},
   "source": [
    "Yes. 'return' values can be embedded in an expression. For e.g return 'this is the return result' + str(5)"
   ]
  },
  {
   "cell_type": "markdown",
   "id": "c6edcc18",
   "metadata": {},
   "source": [
    "### 8. If a function does not have a return statement, what is the return value of a call to that function?"
   ]
  },
  {
   "cell_type": "markdown",
   "id": "ddf65406",
   "metadata": {},
   "source": [
    "If a function doesnt have a return statement, then it returns an 'Undefined' at the end of the function call and control returns to the next line of the function call."
   ]
  },
  {
   "cell_type": "markdown",
   "id": "418c424e",
   "metadata": {},
   "source": [
    "### 9. How do you make a function variable refer to the global variable?"
   ]
  },
  {
   "cell_type": "markdown",
   "id": "3b948255",
   "metadata": {},
   "source": [
    "We can simply use the global variable value inside the function"
   ]
  },
  {
   "cell_type": "markdown",
   "id": "0d620e79",
   "metadata": {},
   "source": [
    "### 10. What is the data type of None?"
   ]
  },
  {
   "cell_type": "markdown",
   "id": "cdbde176",
   "metadata": {},
   "source": [
    "Nonetype"
   ]
  },
  {
   "cell_type": "markdown",
   "id": "1ae358f6",
   "metadata": {},
   "source": [
    "### 11. What does the sentence import areallyourpetsnamederic do?"
   ]
  },
  {
   "cell_type": "code",
   "execution_count": null,
   "id": "232960c5",
   "metadata": {},
   "outputs": [],
   "source": [
    "It imports the module 'areallourpetsnamederic'"
   ]
  },
  {
   "cell_type": "markdown",
   "id": "9129945f",
   "metadata": {},
   "source": [
    "### 12. If you had a bacon() feature in a spam module, what would you call it after importing spam?"
   ]
  },
  {
   "cell_type": "code",
   "execution_count": null,
   "id": "ef9641c1",
   "metadata": {},
   "outputs": [],
   "source": [
    "import spam\n",
    "spam.bacon()"
   ]
  },
  {
   "cell_type": "markdown",
   "id": "ec6ff6a7",
   "metadata": {},
   "source": [
    "### 13. What can you do to save a programme from crashing if it encounters an error?"
   ]
  },
  {
   "cell_type": "code",
   "execution_count": null,
   "id": "22a44b5d",
   "metadata": {},
   "outputs": [],
   "source": [
    "We can use 'try - except' block to handle errors and save any unwanted crashing of the program."
   ]
  },
  {
   "cell_type": "markdown",
   "id": "397f5069",
   "metadata": {},
   "source": [
    "### 14. What is the purpose of the try clause? What is the purpose of the except clause?"
   ]
  },
  {
   "cell_type": "markdown",
   "id": "e2f920de",
   "metadata": {},
   "source": [
    "The 'try' clause executes any sequence of statements that are given inside. If there is any exception/error, then it has to be handled in the 'except' block. If said error is not handled in the except block, then the program aborts."
   ]
  }
 ],
 "metadata": {
  "kernelspec": {
   "display_name": "Python 3 (ipykernel)",
   "language": "python",
   "name": "python3"
  },
  "language_info": {
   "codemirror_mode": {
    "name": "ipython",
    "version": 3
   },
   "file_extension": ".py",
   "mimetype": "text/x-python",
   "name": "python",
   "nbconvert_exporter": "python",
   "pygments_lexer": "ipython3",
   "version": "3.9.7"
  }
 },
 "nbformat": 4,
 "nbformat_minor": 5
}
