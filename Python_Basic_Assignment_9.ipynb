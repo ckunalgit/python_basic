{
 "cells": [
  {
   "cell_type": "markdown",
   "id": "5853746c",
   "metadata": {},
   "source": [
    "# Python_Basic_Assignment : Assignment_9"
   ]
  },
  {
   "cell_type": "markdown",
   "id": "afa958b0",
   "metadata": {},
   "source": [
    "### 1. To what does a relative path refer?"
   ]
  },
  {
   "cell_type": "markdown",
   "id": "e6a26fad",
   "metadata": {},
   "source": [
    "A relative path in Python refers to the path of a file/program wrt the current working directory. Thus instead of giving the full path of the file, we can simply use the path which can be traversed from the current working directory.\n",
    "For e.g - If the cwd is \"C:/Users\", and the a file is located inside \"C:\\Users\\current_dir\\file.txt\", then the relative path would be \"\\current_dir/file.txt\""
   ]
  },
  {
   "cell_type": "markdown",
   "id": "9b71ebd0",
   "metadata": {},
   "source": [
    "### 2. What does an absolute path start with your operating system?"
   ]
  },
  {
   "cell_type": "markdown",
   "id": "edd493cd",
   "metadata": {},
   "source": [
    "The absolute path refers to the entire path starting from the root folder required to locate a file or program.\n",
    "Using the above example, the absolute path for the \"file.txt\" would be \"C:\\Users\\current_dir\\file.txt\""
   ]
  },
  {
   "cell_type": "markdown",
   "id": "d19f58e2",
   "metadata": {},
   "source": [
    "### 3. What do the functions os.getcwd() and os.chdir() do?"
   ]
  },
  {
   "cell_type": "markdown",
   "id": "5a0b7d69",
   "metadata": {},
   "source": [
    "os.getcwd() - Gets the current working directory in which Python is running\n",
    "os.chdir()  - Changes the current working directory to any desired directory"
   ]
  },
  {
   "cell_type": "code",
   "execution_count": 12,
   "id": "4d03e635",
   "metadata": {},
   "outputs": [
    {
     "name": "stdout",
     "output_type": "stream",
     "text": [
      "Current working directory is  E:\\iNeuron\\Notebooks\\Python\\Python_basic_assignments\\Solutions\n",
      "New current working directory is  E:\\iNeuron\\Notebooks\\Python\\Python_basic_assignments\\Assignments\n"
     ]
    }
   ],
   "source": [
    "import os\n",
    "\n",
    "cwd = os.getcwd()\n",
    "print('Current working directory is ',cwd)\n",
    "\n",
    "path = r'E:\\iNeuron\\Notebooks\\Python\\Python_basic_assignments\\Assignments'\n",
    "os.chdir(path)\n",
    "\n",
    "cwd = os.getcwd()\n",
    "print('New current working directory is ',cwd)"
   ]
  },
  {
   "cell_type": "markdown",
   "id": "659a3723",
   "metadata": {},
   "source": [
    "### 4. What are the . and .. folders?"
   ]
  },
  {
   "cell_type": "code",
   "execution_count": null,
   "id": "ecbeb72f",
   "metadata": {},
   "outputs": [],
   "source": [
    ". - refers |to the current directory. This is useful when an executable has to be run in the current directory\n",
    ".. - refers to parent directory or in Unix systems is used to go up one hierarchy at a time"
   ]
  },
  {
   "cell_type": "markdown",
   "id": "ce29d245",
   "metadata": {},
   "source": [
    "### 5. In C:\\bacon\\eggs\\spam.txt, which part is the dir name, and which part is the base name?"
   ]
  },
  {
   "cell_type": "markdown",
   "id": "f36be3ba",
   "metadata": {},
   "source": [
    "\"C:\\bacon\\eggs\" is the directory name\n",
    "\"spam.txt\" is the basename\n",
    "\n",
    "Below is an example"
   ]
  },
  {
   "cell_type": "code",
   "execution_count": 9,
   "id": "cffabcf0",
   "metadata": {},
   "outputs": [
    {
     "name": "stdout",
     "output_type": "stream",
     "text": [
      "spam.txt\n",
      "spam.txt\n",
      "eggs\n"
     ]
    }
   ],
   "source": [
    "import os.path\n",
    "\n",
    "# Example of giving basename with absolute path\n",
    "path = r\"C:\\bacon\\eggs\\spam.txt\"\n",
    "print(os.path.basename(path))\n",
    "\n",
    "# Example of giving basename with only filename\n",
    "path = r\"spam.txt\"\n",
    "print(os.path.basename(path))\n",
    "\n",
    "# Example of giving basename with only relative path\n",
    "path = r\"C:\\bacon\\eggs\"\n",
    "print(os.path.basename(path))"
   ]
  },
  {
   "cell_type": "markdown",
   "id": "da86b7d6",
   "metadata": {},
   "source": [
    "### 6. What are the three “mode” arguments that can be passed to the open() function?"
   ]
  },
  {
   "cell_type": "markdown",
   "id": "42af59dd",
   "metadata": {},
   "source": [
    "The 3 mode arguments that can be passed to an open() function are read(\"r\"), write(\"w\") and append(\"a\")"
   ]
  },
  {
   "cell_type": "markdown",
   "id": "b5bf2390",
   "metadata": {},
   "source": [
    "### 7. What happens if an existing file is opened in write mode?"
   ]
  },
  {
   "cell_type": "markdown",
   "id": "af574b0d",
   "metadata": {},
   "source": [
    "If an existing file is opened in write mode then the contents of the file will be overwritten"
   ]
  },
  {
   "cell_type": "markdown",
   "id": "cd21bb07",
   "metadata": {},
   "source": [
    "### 8. How do you tell the difference between read() and readlines()?"
   ]
  },
  {
   "cell_type": "markdown",
   "id": "d89dd7f1",
   "metadata": {},
   "source": [
    "read() method reads the contents of the file and prints them as a string.\n",
    "readlines() reads all lines together and prints them as a single output in the console."
   ]
  },
  {
   "cell_type": "code",
   "execution_count": 21,
   "id": "022589f3",
   "metadata": {},
   "outputs": [
    {
     "name": "stdout",
     "output_type": "stream",
     "text": [
      "### 1. To what does a relative path refer?\n",
      "### 2. What does an absolute path start with your operating system?\n",
      "### 3. What do the functions os.getcwd() and os.chdir() do?\n",
      "### 4. What are the . and .. folders?\n",
      "### 5. In C:\\bacon\\eggs\\spam.txt, which part is the dir name, and which part is the base name?\n",
      "### 6. What are the three “mode” arguments that can be passed to the open() function?\n",
      "### 7. What happens if an existing file is opened in write mode?\n",
      "### 8. How do you tell the difference between read() and readlines()?\n",
      "### 9. What data structure does a shelf value resemble?\n"
     ]
    }
   ],
   "source": [
    "with open(\"Assignment_9.txt\",\"r\",encoding = \"utf8\") as r:\n",
    "    read = r.read()\n",
    "    print(read)\n",
    "    \n",
    "    "
   ]
  },
  {
   "cell_type": "code",
   "execution_count": 22,
   "id": "041d06aa",
   "metadata": {},
   "outputs": [
    {
     "name": "stdout",
     "output_type": "stream",
     "text": [
      "['### 1. To what does a relative path refer?\\n', '### 2. What does an absolute path start with your operating system?\\n', '### 3. What do the functions os.getcwd() and os.chdir() do?\\n', '### 4. What are the . and .. folders?\\n', '### 5. In C:\\\\bacon\\\\eggs\\\\spam.txt, which part is the dir name, and which part is the base name?\\n', '### 6. What are the three “mode” arguments that can be passed to the open() function?\\n', '### 7. What happens if an existing file is opened in write mode?\\n', '### 8. How do you tell the difference between read() and readlines()?\\n', '### 9. What data structure does a shelf value resemble?']\n"
     ]
    }
   ],
   "source": [
    "with open(\"Assignment_9.txt\",\"r\",encoding = \"utf8\") as r:\n",
    "    read = r.readlines()\n",
    "    print(read)"
   ]
  },
  {
   "cell_type": "markdown",
   "id": "d1c8a660",
   "metadata": {},
   "source": [
    "### 9. What data structure does a shelf value resemble?"
   ]
  },
  {
   "cell_type": "markdown",
   "id": "453a0903",
   "metadata": {},
   "source": [
    "A shelf value resembles a dictionary value. It has keys() and values() method similar to dictionary"
   ]
  }
 ],
 "metadata": {
  "kernelspec": {
   "display_name": "Python 3 (ipykernel)",
   "language": "python",
   "name": "python3"
  },
  "language_info": {
   "codemirror_mode": {
    "name": "ipython",
    "version": 3
   },
   "file_extension": ".py",
   "mimetype": "text/x-python",
   "name": "python",
   "nbconvert_exporter": "python",
   "pygments_lexer": "ipython3",
   "version": "3.9.7"
  }
 },
 "nbformat": 4,
 "nbformat_minor": 5
}
