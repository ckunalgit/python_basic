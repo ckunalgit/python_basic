{
 "cells": [
  {
   "cell_type": "markdown",
   "id": "74763b72",
   "metadata": {},
   "source": [
    "# Python Basic Assignment : Assignment_6"
   ]
  },
  {
   "cell_type": "markdown",
   "id": "e575bcc9",
   "metadata": {},
   "source": [
    "### 1. What are escape characters, and how do you use them?"
   ]
  },
  {
   "cell_type": "markdown",
   "id": "e1fe9b27",
   "metadata": {},
   "source": [
    "An escape character in Python is prefixed with '\\' to signify certain whitespaces like tab('\\t'), new line('\\n'), etc. It can also be used to prefix another escape character such that python compiler can read it. For e.g when defining windows paths in python programs, we have to use \"C:\\\\Windows\\\\ProgramFiles\", to make the complier read the path"
   ]
  },
  {
   "cell_type": "markdown",
   "id": "272ef444",
   "metadata": {},
   "source": [
    "### 2. What do the escape characters n and t stand for?"
   ]
  },
  {
   "cell_type": "markdown",
   "id": "2ce6bec7",
   "metadata": {},
   "source": [
    "'\\n' stands for new line. '\\t' stands for tab"
   ]
  },
  {
   "cell_type": "markdown",
   "id": "6c057d45",
   "metadata": {},
   "source": [
    "### 3. What is the way to include backslash characters in a string?"
   ]
  },
  {
   "cell_type": "markdown",
   "id": "92442613",
   "metadata": {},
   "source": [
    "We have to use another backslash after an escape character for python to recognize it.\n",
    "For e.g when defining windows paths in python programs, we have to use \"C:\\Windows\\ProgramFiles\", to make the complier read the path"
   ]
  },
  {
   "cell_type": "markdown",
   "id": "4c8ef4aa",
   "metadata": {},
   "source": [
    "### 4. The string \"Howl's Moving Castle\" is a correct value. Why isn't the single quote character in the word Howl's not escaped a problem?"
   ]
  },
  {
   "cell_type": "markdown",
   "id": "6470751c",
   "metadata": {},
   "source": [
    "'\\\\' can be used as an escape character when single quotes are used. When \"\" are used, there's no need for an escape character"
   ]
  },
  {
   "cell_type": "code",
   "execution_count": 5,
   "id": "1c0b8192",
   "metadata": {},
   "outputs": [
    {
     "name": "stdout",
     "output_type": "stream",
     "text": [
      "Howl's Moving Castle     Howl's Moving Castle\n"
     ]
    }
   ],
   "source": [
    "a = \"Howl's Moving Castle\"\n",
    "b = 'Howl\\'s Moving Castle'\n",
    "print(a,'   ',b)"
   ]
  },
  {
   "cell_type": "markdown",
   "id": "e682281c",
   "metadata": {},
   "source": [
    "### 5. How do you write a string of newlines if you don't want to use the n character?"
   ]
  },
  {
   "cell_type": "markdown",
   "id": "e09b0e2b",
   "metadata": {},
   "source": [
    "We can use multiple separate print statements as below"
   ]
  },
  {
   "cell_type": "code",
   "execution_count": 11,
   "id": "9a07acf6",
   "metadata": {},
   "outputs": [
    {
     "name": "stdout",
     "output_type": "stream",
     "text": [
      "Hello \n",
      "World\n"
     ]
    }
   ],
   "source": [
    "print('Hello','\\nWorld')"
   ]
  },
  {
   "cell_type": "code",
   "execution_count": 8,
   "id": "e3a871d5",
   "metadata": {},
   "outputs": [
    {
     "name": "stdout",
     "output_type": "stream",
     "text": [
      "Hello\n",
      "World\n"
     ]
    }
   ],
   "source": [
    "print('Hello')\n",
    "print('World')"
   ]
  },
  {
   "cell_type": "markdown",
   "id": "822278c7",
   "metadata": {},
   "source": [
    "### 6. What are the values of the given expressions?\n"
   ]
  },
  {
   "cell_type": "code",
   "execution_count": null,
   "id": "e54a9895",
   "metadata": {},
   "outputs": [],
   "source": [
    "'Hello, world!'[1]"
   ]
  },
  {
   "cell_type": "markdown",
   "id": "4cd36bbc",
   "metadata": {},
   "source": [
    "'e'"
   ]
  },
  {
   "cell_type": "code",
   "execution_count": null,
   "id": "c03640aa",
   "metadata": {},
   "outputs": [],
   "source": [
    "'Hello, world!'[0:5]"
   ]
  },
  {
   "cell_type": "markdown",
   "id": "68cfa932",
   "metadata": {},
   "source": [
    "'Hello'"
   ]
  },
  {
   "cell_type": "code",
   "execution_count": null,
   "id": "52ad4af1",
   "metadata": {},
   "outputs": [],
   "source": [
    "'Hello, world!'[:5]"
   ]
  },
  {
   "cell_type": "markdown",
   "id": "5488b227",
   "metadata": {},
   "source": [
    "'Hello'"
   ]
  },
  {
   "cell_type": "code",
   "execution_count": null,
   "id": "adf78fb7",
   "metadata": {},
   "outputs": [],
   "source": [
    "'Hello, world!'[3:]"
   ]
  },
  {
   "cell_type": "markdown",
   "id": "8968f529",
   "metadata": {},
   "source": [
    "'lo, world!'"
   ]
  },
  {
   "cell_type": "markdown",
   "id": "bdb68a6c",
   "metadata": {},
   "source": [
    "### 7. What are the values of the following expressions?"
   ]
  },
  {
   "cell_type": "code",
   "execution_count": null,
   "id": "19e141b7",
   "metadata": {},
   "outputs": [],
   "source": [
    "'Hello'.upper()"
   ]
  },
  {
   "cell_type": "markdown",
   "id": "ef0faa90",
   "metadata": {},
   "source": [
    "'HELLO'"
   ]
  },
  {
   "cell_type": "code",
   "execution_count": null,
   "id": "9fa7b33b",
   "metadata": {},
   "outputs": [],
   "source": [
    "'Hello'.upper().isupper()"
   ]
  },
  {
   "cell_type": "markdown",
   "id": "81ddfaa2",
   "metadata": {},
   "source": [
    "True"
   ]
  },
  {
   "cell_type": "code",
   "execution_count": null,
   "id": "d0af4149",
   "metadata": {},
   "outputs": [],
   "source": [
    "'Hello'.upper().lower()"
   ]
  },
  {
   "cell_type": "markdown",
   "id": "8db86448",
   "metadata": {},
   "source": [
    "'hello'"
   ]
  },
  {
   "cell_type": "markdown",
   "id": "fdaadcc3",
   "metadata": {},
   "source": [
    "### 8. What are the values of the following expressions?"
   ]
  },
  {
   "cell_type": "code",
   "execution_count": null,
   "id": "0c56beee",
   "metadata": {},
   "outputs": [],
   "source": [
    "'Remember, remember, the fifth of July.'.split()"
   ]
  },
  {
   "cell_type": "markdown",
   "id": "e871de84",
   "metadata": {},
   "source": [
    "['Remember,', 'remember,', 'the', 'fifth', 'of', 'July.']"
   ]
  },
  {
   "cell_type": "code",
   "execution_count": null,
   "id": "73fef9fd",
   "metadata": {},
   "outputs": [],
   "source": [
    "'-'.join('There can only one.'.split())"
   ]
  },
  {
   "cell_type": "markdown",
   "id": "4ce72728",
   "metadata": {},
   "source": [
    "There-can-only-one."
   ]
  },
  {
   "cell_type": "markdown",
   "id": "325d95c3",
   "metadata": {},
   "source": [
    "### 9. What are the methods for right-justifying, left-justifying, and centering a string?"
   ]
  },
  {
   "cell_type": "code",
   "execution_count": 20,
   "id": "f70c6473",
   "metadata": {},
   "outputs": [
    {
     "name": "stdout",
     "output_type": "stream",
     "text": [
      "The original string is : \n",
      " I love geeksforgeeks \n",
      "\n",
      "The center aligned string is : \n",
      "          I love geeksforgeeks           \n",
      "\n",
      "Center aligned string with fillchr: \n",
      "##########I love geeksforgeeks##########\n"
     ]
    }
   ],
   "source": [
    "cstr = \"I love geeksforgeeks\"\n",
    "  \n",
    "# Printing the original string\n",
    "print (\"The original string is : \\n\", cstr, \"\\n\")\n",
    "  \n",
    "# Printing the center aligned string \n",
    "print (\"The center aligned string is : \")\n",
    "print (cstr.center(40), \"\\n\")\n",
    "  \n",
    "# Printing the center aligned \n",
    "# string with fillchr\n",
    "print (\"Center aligned string with fillchr: \")\n",
    "print (cstr.center(40, '#'))"
   ]
  },
  {
   "cell_type": "markdown",
   "id": "33a63a68",
   "metadata": {},
   "source": [
    "### 10. What is the best way to remove whitespace characters from the start or end?"
   ]
  },
  {
   "cell_type": "markdown",
   "id": "3c705249",
   "metadata": {},
   "source": [
    "string.strip() function will remove all whitespace characters from both ends. The strip function can also be used to remove other whitespace characters like tab,commas,etc from string, but we have to specify it as shown below."
   ]
  },
  {
   "cell_type": "code",
   "execution_count": 9,
   "id": "805084bb",
   "metadata": {},
   "outputs": [
    {
     "name": "stdout",
     "output_type": "stream",
     "text": [
      "no  whitespace\n",
      "\n",
      "\n",
      "no_commas\n"
     ]
    }
   ],
   "source": [
    "l = '    no  whitespace     '\n",
    "print(l.strip())\n",
    "\n",
    "print('\\n')\n",
    "\n",
    "l1 = ',,,,,,no_commas,,,,,,,'\n",
    "print(l1.strip(','))"
   ]
  }
 ],
 "metadata": {
  "kernelspec": {
   "display_name": "Python 3 (ipykernel)",
   "language": "python",
   "name": "python3"
  },
  "language_info": {
   "codemirror_mode": {
    "name": "ipython",
    "version": 3
   },
   "file_extension": ".py",
   "mimetype": "text/x-python",
   "name": "python",
   "nbconvert_exporter": "python",
   "pygments_lexer": "ipython3",
   "version": "3.9.7"
  }
 },
 "nbformat": 4,
 "nbformat_minor": 5
}
