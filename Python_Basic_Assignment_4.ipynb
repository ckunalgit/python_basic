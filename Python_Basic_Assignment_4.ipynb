{
 "cells": [
  {
   "cell_type": "markdown",
   "id": "f7fc775d",
   "metadata": {},
   "source": [
    "# Python Basic Assignment: Assignment_4"
   ]
  },
  {
   "cell_type": "markdown",
   "id": "e33c672a",
   "metadata": {},
   "source": [
    "### 1. What exactly is []?"
   ]
  },
  {
   "cell_type": "markdown",
   "id": "4ffc9c87",
   "metadata": {},
   "source": [
    "[] signifies an empty list."
   ]
  },
  {
   "cell_type": "markdown",
   "id": "2b18bef5",
   "metadata": {},
   "source": [
    "### 2. In a list of values stored in a variable called spam, how would you assign the value 'hello' as the third value? (Assume [2, 4, 6, 8, 10] are in spam.)"
   ]
  },
  {
   "cell_type": "markdown",
   "id": "7c26c102",
   "metadata": {},
   "source": [
    "spam.insert(2,'Hello')"
   ]
  },
  {
   "cell_type": "markdown",
   "id": "0ef86403",
   "metadata": {},
   "source": [
    "## Let's pretend the spam includes the list ['a', 'b', 'c', 'd'] for the next three queries.\n",
    "### 3. What is the value of spam[int(int('3' * 2) / 11)]?"
   ]
  },
  {
   "cell_type": "markdown",
   "id": "bc27f190",
   "metadata": {},
   "source": [
    "'d'"
   ]
  },
  {
   "cell_type": "markdown",
   "id": "dbdfba4e",
   "metadata": {},
   "source": [
    "### 4. What is the value of spam[-1]?"
   ]
  },
  {
   "cell_type": "markdown",
   "id": "6c0d6610",
   "metadata": {},
   "source": [
    "'d'"
   ]
  },
  {
   "cell_type": "markdown",
   "id": "5a9c8592",
   "metadata": {},
   "source": [
    "### 5. What is the value of spam[:2]?"
   ]
  },
  {
   "cell_type": "markdown",
   "id": "89215dfc",
   "metadata": {},
   "source": [
    "['a', 'b']"
   ]
  },
  {
   "cell_type": "markdown",
   "id": "e741441e",
   "metadata": {},
   "source": [
    "## Let's pretend bacon has the list [3.14, 'cat', 11, 'cat', True] for the next three questions.\n",
    "### 6. What is the value of bacon.index('cat')?"
   ]
  },
  {
   "cell_type": "markdown",
   "id": "6297d10b",
   "metadata": {},
   "source": [
    "1"
   ]
  },
  {
   "cell_type": "markdown",
   "id": "70553771",
   "metadata": {},
   "source": [
    "### 7. How does bacon.append(99) change the look of the list value in bacon?"
   ]
  },
  {
   "cell_type": "markdown",
   "id": "4680ab99",
   "metadata": {},
   "source": [
    "bacon = [3.14, 'cat,' 11, 'cat,' True, 99]"
   ]
  },
  {
   "cell_type": "markdown",
   "id": "408333d0",
   "metadata": {},
   "source": [
    "### 8. How does bacon.remove('cat') change the look of the list in bacon?"
   ]
  },
  {
   "cell_type": "markdown",
   "id": "7d52ffb2",
   "metadata": {},
   "source": [
    "[3.14, 11, 'cat', True, 99]"
   ]
  },
  {
   "cell_type": "markdown",
   "id": "f7bf840a",
   "metadata": {},
   "source": [
    "### 9. What are the list concatenation and list replication operators?"
   ]
  },
  {
   "cell_type": "markdown",
   "id": "1e7ae382",
   "metadata": {},
   "source": [
    "###### List concatenation can be done by using 3 methods:\n",
    "     1. using list.append() method\n",
    "     2. using list1 + list2 will append 2 lists\n",
    "     3. using list comprehension we can concatenate lists\n",
    "     4. using list.extend() method\n",
    "\n",
    "List concatenation operation can happen only between lists.\n",
    "List replication however can be used to combine lists with integers as shown in the examples below"
   ]
  },
  {
   "cell_type": "code",
   "execution_count": 14,
   "id": "534910cf",
   "metadata": {},
   "outputs": [
    {
     "name": "stdout",
     "output_type": "stream",
     "text": [
      "[1, 2, 3, 'a', 'b', 'c']\n",
      "[1, 2, 3, 1, 2, 3, 1, 2, 3]\n"
     ]
    }
   ],
   "source": [
    "list1 = [1,2,3]\n",
    "list2 = ['a','b','c']\n",
    "\n",
    "#List concatenation\n",
    "print(list1 + list2)\n",
    "\n",
    "#List replication\n",
    "print(list1 * 3)"
   ]
  },
  {
   "cell_type": "markdown",
   "id": "b8e6d6d9",
   "metadata": {},
   "source": [
    "### 10. What is difference between the list methods append() and insert()?"
   ]
  },
  {
   "cell_type": "markdown",
   "id": "f1eec1b9",
   "metadata": {},
   "source": [
    "append() only adds at the end of the list whereas insert() can be used to insert a value at a specific index."
   ]
  },
  {
   "cell_type": "markdown",
   "id": "d6c39cc5",
   "metadata": {},
   "source": [
    "### 11. What are the two methods for removing items from a list?"
   ]
  },
  {
   "cell_type": "markdown",
   "id": "e775a218",
   "metadata": {},
   "source": [
    "remove() and clear()"
   ]
  },
  {
   "cell_type": "markdown",
   "id": "5d0f975e",
   "metadata": {},
   "source": [
    "### 12. Describe how list values and string values are identical."
   ]
  },
  {
   "cell_type": "markdown",
   "id": "b1b98fb9",
   "metadata": {},
   "source": [
    "Both list values and string values can be iterated upon."
   ]
  },
  {
   "cell_type": "markdown",
   "id": "7545e473",
   "metadata": {},
   "source": [
    "### 13. What's the difference between tuples and lists?"
   ]
  },
  {
   "cell_type": "markdown",
   "id": "613e5846",
   "metadata": {},
   "source": [
    "Tuples are immutable and cannot be changed, whereas elements of lists can be changed."
   ]
  },
  {
   "cell_type": "markdown",
   "id": "67c247c9",
   "metadata": {},
   "source": [
    "### 14. How do you type a tuple value that only contains the integer 42?"
   ]
  },
  {
   "cell_type": "code",
   "execution_count": 7,
   "id": "f9d7e33c",
   "metadata": {},
   "outputs": [
    {
     "name": "stdout",
     "output_type": "stream",
     "text": [
      "42\n"
     ]
    }
   ],
   "source": [
    "tup = (42)\n",
    "print(tup)"
   ]
  },
  {
   "cell_type": "markdown",
   "id": "202f7b38",
   "metadata": {},
   "source": [
    "### 15. How do you get a list value's tuple form? How do you get a tuple value's list form?"
   ]
  },
  {
   "cell_type": "code",
   "execution_count": 9,
   "id": "f15fedba",
   "metadata": {},
   "outputs": [
    {
     "data": {
      "text/plain": [
       "(1, 2, 3, 4)"
      ]
     },
     "execution_count": 9,
     "metadata": {},
     "output_type": "execute_result"
    }
   ],
   "source": [
    "# Tuple to list \n",
    "tup = (1,2,3,4)\n",
    "lit = list(tup)\n",
    "lit\n",
    "\n",
    "# List to tuple\n",
    "lit = [1,2,3,4]\n",
    "tup = tuple(lit)\n",
    "tup"
   ]
  },
  {
   "cell_type": "markdown",
   "id": "71356570",
   "metadata": {},
   "source": [
    "### 16. Variables that \"contain\" list values are not necessarily lists themselves. Instead, what do they contain?"
   ]
  },
  {
   "cell_type": "markdown",
   "id": "cd6ab423",
   "metadata": {},
   "source": [
    "When lists are assigned to a variable, then the value of the list is not stored in those variables, instead a pointer to the memory location of those values are stored. If we are reusing that variable somewhere else within the function, it is reassigned to the new memory location"
   ]
  },
  {
   "cell_type": "markdown",
   "id": "53cb4406",
   "metadata": {},
   "source": [
    "### 17. How do you distinguish between copy.copy() and copy.deepcopy()?"
   ]
  },
  {
   "cell_type": "code",
   "execution_count": 11,
   "id": "3b163729",
   "metadata": {},
   "outputs": [
    {
     "name": "stdout",
     "output_type": "stream",
     "text": [
      "Deep copy list before change [1, 2, ['b', 4, 5], 6]\n",
      "Shallow copy list before change [1, 2, ['b', 4, 5], 6]\n",
      "\n",
      "Original list after copy [1, 2, ['b', 4, 5], 6]\n",
      "New list after copy [1, 2, ['a', 4, 5], 6]\n",
      "\n",
      "Original list after copy [1, 2, ['b', 4, 5], 6]\n",
      "New list after copy [1, 2, ['b', 4, 5], 6]\n"
     ]
    }
   ],
   "source": [
    "import copy\n",
    "\n",
    "x = [1,2,[3,4,5],6] #Only works on compound objects\n",
    "\n",
    "dcopy = copy.deepcopy(l1)\n",
    "copy = copy.copy(l1)\n",
    "\n",
    "print('Deep copy list before change',dcopy)\n",
    "print('Shallow copy list before change',copy)\n",
    "\n",
    "dcopy[2][0] = 'a'\n",
    "print('\\nOriginal list after copy',l1)\n",
    "print('New list after copy',dcopy)\n",
    "\n",
    "l3[2][0] = 'b'\n",
    "print('\\nOriginal list after copy',l1)\n",
    "print('New list after copy',copy)"
   ]
  },
  {
   "cell_type": "markdown",
   "id": "3aae953f",
   "metadata": {},
   "source": [
    "A copy or deepcopy operation is used to create a new object in python from an existing object. These operations can only be used on compound objects i.e objects which have other objects in them as shown above. While the deepcopy operation using copy.deepcopy() function doesnt change objects form the original compound object, any changes made using shallowcopy operation (copy.copy()), will change the underlying objects in the original list.\n",
    "\n",
    "As show in the program above, after assigning a value 'a' to list[2][0], using deepcopy, the underlying list 'x' remains the same, however when we use copy.copy() operation, the original list changes."
   ]
  }
 ],
 "metadata": {
  "kernelspec": {
   "display_name": "Python 3 (ipykernel)",
   "language": "python",
   "name": "python3"
  },
  "language_info": {
   "codemirror_mode": {
    "name": "ipython",
    "version": 3
   },
   "file_extension": ".py",
   "mimetype": "text/x-python",
   "name": "python",
   "nbconvert_exporter": "python",
   "pygments_lexer": "ipython3",
   "version": "3.9.7"
  }
 },
 "nbformat": 4,
 "nbformat_minor": 5
}
