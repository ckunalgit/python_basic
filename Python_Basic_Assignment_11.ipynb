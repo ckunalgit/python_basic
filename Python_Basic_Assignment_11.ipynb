{
 "cells": [
  {
   "cell_type": "markdown",
   "id": "3d3512ff",
   "metadata": {},
   "source": [
    "## Python_Basic_Assignment : Assignment_11"
   ]
  },
  {
   "cell_type": "markdown",
   "id": "a84081a0",
   "metadata": {},
   "source": [
    "### 1. Create an assert statement that throws an AssertionError if the variable spam is a negative integer."
   ]
  },
  {
   "cell_type": "code",
   "execution_count": 2,
   "id": "8aeaad13",
   "metadata": {},
   "outputs": [
    {
     "ename": "AssertionError",
     "evalue": "The spam variable is a negative integer",
     "output_type": "error",
     "traceback": [
      "\u001b[1;31m---------------------------------------------------------------------------\u001b[0m",
      "\u001b[1;31mAssertionError\u001b[0m                            Traceback (most recent call last)",
      "\u001b[1;32m~\\AppData\\Local\\Temp/ipykernel_14556/3309065242.py\u001b[0m in \u001b[0;36m<module>\u001b[1;34m\u001b[0m\n\u001b[0;32m      1\u001b[0m \u001b[0mspam\u001b[0m \u001b[1;33m=\u001b[0m \u001b[1;33m-\u001b[0m\u001b[1;36m2\u001b[0m\u001b[1;33m\u001b[0m\u001b[1;33m\u001b[0m\u001b[0m\n\u001b[1;32m----> 2\u001b[1;33m \u001b[1;32massert\u001b[0m \u001b[0mspam\u001b[0m \u001b[1;33m>=\u001b[0m \u001b[1;36m0\u001b[0m\u001b[1;33m,\u001b[0m \u001b[1;34m'The spam variable is a negative integer'\u001b[0m\u001b[1;33m\u001b[0m\u001b[1;33m\u001b[0m\u001b[0m\n\u001b[0m",
      "\u001b[1;31mAssertionError\u001b[0m: The spam variable is a negative integer"
     ]
    }
   ],
   "source": [
    "spam = -2\n",
    "assert spam >= 0, 'The spam variable is a negative integer'"
   ]
  },
  {
   "cell_type": "markdown",
   "id": "cc16544b",
   "metadata": {},
   "source": [
    "### 2. Write an assert statement that triggers an AssertionError if the variables eggs and bacon contain strings that are the same as each other, even if their cases are different (that is, 'hello' and 'hello' are considered the same, and 'goodbye' and 'GOODbye' are also considered the same)."
   ]
  },
  {
   "cell_type": "code",
   "execution_count": 6,
   "id": "3d4e2c2f",
   "metadata": {},
   "outputs": [
    {
     "ename": "AssertionError",
     "evalue": "Both eggs and bacon have same strings",
     "output_type": "error",
     "traceback": [
      "\u001b[1;31m---------------------------------------------------------------------------\u001b[0m",
      "\u001b[1;31mAssertionError\u001b[0m                            Traceback (most recent call last)",
      "\u001b[1;32m~\\AppData\\Local\\Temp/ipykernel_14556/3847940476.py\u001b[0m in \u001b[0;36m<module>\u001b[1;34m\u001b[0m\n\u001b[0;32m      8\u001b[0m \u001b[1;33m\u001b[0m\u001b[0m\n\u001b[0;32m      9\u001b[0m \u001b[1;31m# Assert statements\u001b[0m\u001b[1;33m\u001b[0m\u001b[1;33m\u001b[0m\u001b[0m\n\u001b[1;32m---> 10\u001b[1;33m \u001b[1;32massert\u001b[0m \u001b[0meggs\u001b[0m \u001b[1;33m!=\u001b[0m \u001b[0mbacon\u001b[0m\u001b[1;33m,\u001b[0m \u001b[1;34m\"Both eggs and bacon have same strings\"\u001b[0m\u001b[1;33m\u001b[0m\u001b[1;33m\u001b[0m\u001b[0m\n\u001b[0m",
      "\u001b[1;31mAssertionError\u001b[0m: Both eggs and bacon have same strings"
     ]
    }
   ],
   "source": [
    "# Declaring the variables\n",
    "eggs = \"eggs\"\n",
    "bacon = \"EggS\"\n",
    "\n",
    "# Converting the variables to samecase\n",
    "eggs = eggs.lower()\n",
    "bacon = bacon.lower()\n",
    "\n",
    "# Assert statements\n",
    "assert eggs != bacon, \"Both eggs and bacon have same strings\""
   ]
  },
  {
   "cell_type": "markdown",
   "id": "971aec67",
   "metadata": {},
   "source": [
    "### 3. Create an assert statement that throws an AssertionError every time."
   ]
  },
  {
   "cell_type": "code",
   "execution_count": 7,
   "id": "0a76745f",
   "metadata": {},
   "outputs": [
    {
     "ename": "AssertionError",
     "evalue": "Always an Assertion Error",
     "output_type": "error",
     "traceback": [
      "\u001b[1;31m---------------------------------------------------------------------------\u001b[0m",
      "\u001b[1;31mAssertionError\u001b[0m                            Traceback (most recent call last)",
      "\u001b[1;32m~\\AppData\\Local\\Temp/ipykernel_14556/3325648026.py\u001b[0m in \u001b[0;36m<module>\u001b[1;34m\u001b[0m\n\u001b[1;32m----> 1\u001b[1;33m \u001b[1;32massert\u001b[0m \u001b[1;32mFalse\u001b[0m\u001b[1;33m,\u001b[0m \u001b[1;34m'Always an Assertion Error'\u001b[0m\u001b[1;33m\u001b[0m\u001b[1;33m\u001b[0m\u001b[0m\n\u001b[0m",
      "\u001b[1;31mAssertionError\u001b[0m: Always an Assertion Error"
     ]
    }
   ],
   "source": [
    "assert False, 'Always an Assertion Error'"
   ]
  },
  {
   "cell_type": "markdown",
   "id": "87f3bf3f",
   "metadata": {},
   "source": [
    "### 4. What are the two lines that must be present in your software in order to call logging.debug()?"
   ]
  },
  {
   "cell_type": "code",
   "execution_count": 9,
   "id": "9710c0a7",
   "metadata": {},
   "outputs": [],
   "source": [
    "import logging\n",
    "logging.basicConfig(level = logging.DEBUG)"
   ]
  },
  {
   "cell_type": "markdown",
   "id": "e8be5ef7",
   "metadata": {},
   "source": [
    "### 5. What are the two lines that your program must have in order to have logging.debug() send a logging message to a file named programLog.txt?"
   ]
  },
  {
   "cell_type": "code",
   "execution_count": 10,
   "id": "ae1859be",
   "metadata": {},
   "outputs": [],
   "source": [
    "import logging\n",
    "logging.basicConfig(filename = \"programLog.txt\", level = logging.DEBUG)"
   ]
  },
  {
   "cell_type": "markdown",
   "id": "180435e6",
   "metadata": {},
   "source": [
    "### 6. What are the five levels of logging?"
   ]
  },
  {
   "cell_type": "code",
   "execution_count": null,
   "id": "5d780599",
   "metadata": {},
   "outputs": [],
   "source": [
    "logging.DEBUG # Basic logging level\n",
    "logging.INFO # INFO level log\n",
    "logging.WARNING # Default level\n",
    "logging.ERROR # Second most severe\n",
    "logging.CRITICAL # Most severe"
   ]
  },
  {
   "cell_type": "markdown",
   "id": "6e5c68e4",
   "metadata": {},
   "source": [
    "### 7. What line of code would you add to your software to disable all logging messages?"
   ]
  },
  {
   "cell_type": "code",
   "execution_count": 11,
   "id": "2900269d",
   "metadata": {},
   "outputs": [],
   "source": [
    "logging.disable(logging.CRITICAL)"
   ]
  },
  {
   "cell_type": "markdown",
   "id": "97ad0b45",
   "metadata": {},
   "source": [
    "### 8. Why is using logging messages better than using print() to display the same message?"
   ]
  },
  {
   "cell_type": "code",
   "execution_count": null,
   "id": "c80d8bd5",
   "metadata": {},
   "outputs": [],
   "source": [
    "Few advantages of using logging over print() statements :\n",
    "    1. We can disable logging messages without removing the logging function calls.\n",
    "    2. Lower-level logging messages can be selectively removed id required.\n",
    "    3. Logging messages provides a timestamp which can be used to find out the exact time of error."
   ]
  },
  {
   "cell_type": "markdown",
   "id": "31a1e7f4",
   "metadata": {},
   "source": [
    "### 9. What are the differences between the Step Over, Step In, and Step Out buttons in the debugger?"
   ]
  },
  {
   "cell_type": "markdown",
   "id": "9264fd1e",
   "metadata": {},
   "source": [
    "The Step button will move the debugger into a function call. The Over button will quickly execute the function call without stepping into it. The Out button will quickly execute the rest of the code until it steps out of the function it currently is in."
   ]
  },
  {
   "cell_type": "markdown",
   "id": "dd4afb4c",
   "metadata": {},
   "source": [
    "### 10. After you click Continue, when will the debugger stop ?"
   ]
  },
  {
   "cell_type": "markdown",
   "id": "f1ddfa32",
   "metadata": {},
   "source": [
    "After clicking continue, the debugger will stop when it will reach the end of a program, or a line or a breakpoint"
   ]
  },
  {
   "cell_type": "markdown",
   "id": "0d3a1ffe",
   "metadata": {},
   "source": [
    "### 11. What is the concept of a breakpoint?"
   ]
  },
  {
   "cell_type": "markdown",
   "id": "f687490e",
   "metadata": {},
   "source": [
    "A breakpoint can be used to make the debugger stop at a particular line when the program execution reaches that line"
   ]
  }
 ],
 "metadata": {
  "kernelspec": {
   "display_name": "Python 3 (ipykernel)",
   "language": "python",
   "name": "python3"
  },
  "language_info": {
   "codemirror_mode": {
    "name": "ipython",
    "version": 3
   },
   "file_extension": ".py",
   "mimetype": "text/x-python",
   "name": "python",
   "nbconvert_exporter": "python",
   "pygments_lexer": "ipython3",
   "version": "3.9.7"
  }
 },
 "nbformat": 4,
 "nbformat_minor": 5
}
