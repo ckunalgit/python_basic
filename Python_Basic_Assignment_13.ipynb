{
 "cells": [
  {
   "cell_type": "markdown",
   "id": "5f8fc80a",
   "metadata": {},
   "source": [
    "## Python_Basic_Assignment : Assignment_13"
   ]
  },
  {
   "cell_type": "markdown",
   "id": "c5000e80",
   "metadata": {},
   "source": [
    "### 1. What advantages do Excel spreadsheets have over CSV spreadsheets?"
   ]
  },
  {
   "cell_type": "markdown",
   "id": "3f6b13cd",
   "metadata": {},
   "source": [
    "1. An EXCEL not only holds data, but can also do operations on the data unline a CSV\n",
    "2. Reading large files is easier with EXCEL\n",
    "3. Apart from text, data can also be stored in the form of charts and graphs in EXCEL\n",
    "4. Excel can connect to external data sources to fetch data. You can use custom add-in in Excel to increase its functionality\n",
    "5. Excel allows for Review of Data with detailed tracking and commenting feature"
   ]
  },
  {
   "cell_type": "markdown",
   "id": "8a008453",
   "metadata": {},
   "source": [
    "### 2. What do you pass to csv.reader() and csv.writer() to create reader and writer objects?"
   ]
  },
  {
   "cell_type": "markdown",
   "id": "0f87ac06",
   "metadata": {},
   "source": [
    "We have to pass a CSV file along with opening mode to the csv.reader() and csv.writer() objects"
   ]
  },
  {
   "cell_type": "markdown",
   "id": "ab1e9512",
   "metadata": {},
   "source": [
    "### 3. What modes do File objects for reader and writer objects need to be opened in?"
   ]
  },
  {
   "cell_type": "markdown",
   "id": "6c79db42",
   "metadata": {},
   "source": [
    "csv.reader() has to be opened in read mode (\"r\")\n",
    "csv.writer has to be opened in write mode (\"w\")"
   ]
  },
  {
   "cell_type": "markdown",
   "id": "9a97da47",
   "metadata": {},
   "source": [
    "### 4. What method takes a list argument and writes it to a CSV file?"
   ]
  },
  {
   "cell_type": "markdown",
   "id": "2a0de15e",
   "metadata": {},
   "source": [
    "the \"writerow()\" method can accept a list argument and write into a CSV file"
   ]
  },
  {
   "cell_type": "markdown",
   "id": "ad1b8a90",
   "metadata": {},
   "source": [
    "### 5. What do the keyword arguments delimiter and line terminator do?"
   ]
  },
  {
   "cell_type": "markdown",
   "id": "f9d3ade6",
   "metadata": {},
   "source": [
    "The \"delimiter\" argument is used to specify what character will be used to separate cells. The \"line terminator\" argument tells the separation between each row."
   ]
  },
  {
   "cell_type": "code",
   "execution_count": null,
   "id": "02cbf55d",
   "metadata": {},
   "outputs": [],
   "source": [
    "# If we want to separate cells based on 'tab' and not comma use delimiter\n",
    "# To make each row double spaced, use lineterminator\n",
    "csvWriter = csv.writer(csvFile, delimiter='\\t', lineterminator='\\n\\n')"
   ]
  },
  {
   "cell_type": "markdown",
   "id": "63ff68fd",
   "metadata": {},
   "source": [
    "### 6. What function takes a string of JSON data and returns a Python data structure?"
   ]
  },
  {
   "cell_type": "markdown",
   "id": "59fa310a",
   "metadata": {},
   "source": [
    "\"json.loads()\" method return Python data structure of JSON string or data"
   ]
  },
  {
   "cell_type": "markdown",
   "id": "e8514808",
   "metadata": {},
   "source": [
    "### 7. What function takes a Python data structure and returns a string of JSON data?"
   ]
  },
  {
   "cell_type": "markdown",
   "id": "e888dfe0",
   "metadata": {},
   "source": [
    "\"json.dumps()\" in Python is a method that converts dictionary objects of Python into JSON string data format.\n",
    "\"json.loads(person_data)\" can also be used to to JSON to Python decoding"
   ]
  }
 ],
 "metadata": {
  "kernelspec": {
   "display_name": "Python 3 (ipykernel)",
   "language": "python",
   "name": "python3"
  },
  "language_info": {
   "codemirror_mode": {
    "name": "ipython",
    "version": 3
   },
   "file_extension": ".py",
   "mimetype": "text/x-python",
   "name": "python",
   "nbconvert_exporter": "python",
   "pygments_lexer": "ipython3",
   "version": "3.9.7"
  }
 },
 "nbformat": 4,
 "nbformat_minor": 5
}
